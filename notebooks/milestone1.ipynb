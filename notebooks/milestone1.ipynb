{
 "cells": [
  {
   "cell_type": "code",
   "execution_count": 2,
   "metadata": {},
   "outputs": [],
   "source": [
    "import re\n",
    "import os\n",
    "import glob\n",
    "import zipfile\n",
    "import requests\n",
    "from urllib.request import urlretrieve\n",
    "import json\n",
    "import pandas as pd\n",
    "import numpy as np\n",
    "from collections import defaultdict"
   ]
  },
  {
   "cell_type": "markdown",
   "metadata": {},
   "source": [
    "<br>\n",
    "<br>\n",
    "<br>\n",
    "<br>\n",
    "<br>\n",
    "\n",
    "## 3. Downloading the data"
   ]
  },
  {
   "cell_type": "code",
   "execution_count": 6,
   "metadata": {},
   "outputs": [
    {
     "name": "stdout",
     "output_type": "stream",
     "text": [
      "/media/dan/data/School/Block_6/DSCI525/DSCI_525_Group_007\n"
     ]
    }
   ],
   "source": [
    "%cd /media/dan/data/School/Block_6/DSCI525/DSCI_525_Group_007\n",
    "## Change it to the location that you want to download your files to."
   ]
  },
  {
   "cell_type": "code",
   "execution_count": 4,
   "metadata": {},
   "outputs": [],
   "source": [
    "# Necessary metadata\n",
    "article_id = 14096681  # this is the unique identifier of the article on figshare\n",
    "url = f\"https://api.figshare.com/v2/articles/{article_id}\"\n",
    "headers = {\"Content-Type\": \"application/json\"}\n",
    "output_directory = \"figshareairline/\""
   ]
  },
  {
   "cell_type": "code",
   "execution_count": 7,
   "metadata": {},
   "outputs": [
    {
     "data": {
      "text/plain": [
       "[{'id': 26579150,\n",
       "  'name': 'daily_rainfall_2014.png',\n",
       "  'size': 58863,\n",
       "  'is_link_only': False,\n",
       "  'download_url': 'https://ndownloader.figshare.com/files/26579150',\n",
       "  'supplied_md5': 'fd32a2ffde300a31f8d63b1825d47e5e',\n",
       "  'computed_md5': 'fd32a2ffde300a31f8d63b1825d47e5e'},\n",
       " {'id': 26579171,\n",
       "  'name': 'environment.yml',\n",
       "  'size': 192,\n",
       "  'is_link_only': False,\n",
       "  'download_url': 'https://ndownloader.figshare.com/files/26579171',\n",
       "  'supplied_md5': '060b2020017eed93a1ee7dd8c65b2f34',\n",
       "  'computed_md5': '060b2020017eed93a1ee7dd8c65b2f34'},\n",
       " {'id': 26586554,\n",
       "  'name': 'README.md',\n",
       "  'size': 5422,\n",
       "  'is_link_only': False,\n",
       "  'download_url': 'https://ndownloader.figshare.com/files/26586554',\n",
       "  'supplied_md5': '61858c6cc0e6a6d6663a7e4c75bbd88c',\n",
       "  'computed_md5': '61858c6cc0e6a6d6663a7e4c75bbd88c'},\n",
       " {'id': 26766812,\n",
       "  'name': 'data.zip',\n",
       "  'size': 814041183,\n",
       "  'is_link_only': False,\n",
       "  'download_url': 'https://ndownloader.figshare.com/files/26766812',\n",
       "  'supplied_md5': 'b517383f76e77bd03755a63a8ff83ee9',\n",
       "  'computed_md5': 'b517383f76e77bd03755a63a8ff83ee9'},\n",
       " {'id': 26766815,\n",
       "  'name': 'get_data.py',\n",
       "  'size': 4113,\n",
       "  'is_link_only': False,\n",
       "  'download_url': 'https://ndownloader.figshare.com/files/26766815',\n",
       "  'supplied_md5': '7829028495fd9dec9680ea013474afa6',\n",
       "  'computed_md5': '7829028495fd9dec9680ea013474afa6'}]"
      ]
     },
     "execution_count": 7,
     "metadata": {},
     "output_type": "execute_result"
    }
   ],
   "source": [
    "response = requests.request(\"GET\", url, headers=headers)\n",
    "data = json.loads(response.text)  # this contains all the articles data, feel free to check it out\n",
    "files = data[\"files\"]             # this is just the data about the files, which is what we want\n",
    "files"
   ]
  },
  {
   "cell_type": "code",
   "execution_count": 8,
   "metadata": {},
   "outputs": [
    {
     "name": "stdout",
     "output_type": "stream",
     "text": [
      "CPU times: user 3.56 s, sys: 7.33 s, total: 10.9 s\n",
      "Wall time: 2min 18s\n"
     ]
    }
   ],
   "source": [
    "%%time\n",
    "files_to_dl = [\"data.zip\"]  # feel free to add other files here\n",
    "for file in files:\n",
    "    if file[\"name\"] in files_to_dl:\n",
    "        os.makedirs(output_directory, exist_ok=True)\n",
    "        urlretrieve(file[\"download_url\"], output_directory + file[\"name\"])"
   ]
  },
  {
   "cell_type": "code",
   "execution_count": 3,
   "metadata": {},
   "outputs": [
    {
     "ename": "NameError",
     "evalue": "name 'output_directory' is not defined",
     "output_type": "error",
     "traceback": [
      "\u001b[0;31m---------------------------------------------------------------------------\u001b[0m",
      "\u001b[0;31mNameError\u001b[0m                                 Traceback (most recent call last)",
      "File \u001b[0;32m<timed exec>:1\u001b[0m\n",
      "\u001b[0;31mNameError\u001b[0m: name 'output_directory' is not defined"
     ]
    }
   ],
   "source": [
    "%%time\n",
    "with zipfile.ZipFile(os.path.join(output_directory, \"data.zip\"), 'r') as f:\n",
    "    f.extractall(output_directory)"
   ]
  },
  {
   "cell_type": "code",
   "execution_count": 7,
   "metadata": {},
   "outputs": [
    {
     "name": "stdout",
     "output_type": "stream",
     "text": [
      "total 5764496\n",
      "-rwxrwxrwx 1 dan dan  95376895 Mar 27 14:38 \u001b[0m\u001b[01;32mMPI-ESM-1-2-HAM_daily_rainfall_NSW.csv\u001b[0m*\n",
      "-rwxrwxrwx 1 dan dan  94960113 Mar 27 14:38 \u001b[01;32mAWI-ESM-1-1-LR_daily_rainfall_NSW.csv\u001b[0m*\n",
      "-rwxrwxrwx 1 dan dan  82474546 Mar 27 14:38 \u001b[01;32mNorESM2-LM_daily_rainfall_NSW.csv\u001b[0m*\n",
      "-rwxrwxrwx 1 dan dan 127613760 Mar 27 14:38 \u001b[01;32mACCESS-CM2_daily_rainfall_NSW.csv\u001b[0m*\n",
      "-rwxrwxrwx 1 dan dan 232118894 Mar 27 14:38 \u001b[01;32mFGOALS-f3-L_daily_rainfall_NSW.csv\u001b[0m*\n",
      "-rwxrwxrwx 1 dan dan 330360682 Mar 27 14:38 \u001b[01;32mCMCC-CM2-HR4_daily_rainfall_NSW.csv\u001b[0m*\n",
      "-rwxrwxrwx 1 dan dan 254009247 Mar 27 14:38 \u001b[01;32mMRI-ESM2-0_daily_rainfall_NSW.csv\u001b[0m*\n",
      "-rwxrwxrwx 1 dan dan 235661418 Mar 27 14:38 \u001b[01;32mGFDL-CM4_daily_rainfall_NSW.csv\u001b[0m*\n",
      "-rwxrwxrwx 1 dan dan 294260911 Mar 27 14:38 \u001b[01;32mBCC-CSM2-MR_daily_rainfall_NSW.csv\u001b[0m*\n",
      "-rwxrwxrwx 1 dan dan 295768615 Mar 27 14:38 \u001b[01;32mEC-Earth3-Veg-LR_daily_rainfall_NSW.csv\u001b[0m*\n",
      "-rwxrwxrwx 1 dan dan 328852379 Mar 27 14:38 \u001b[01;32mCMCC-ESM2_daily_rainfall_NSW.csv\u001b[0m*\n",
      "-rwxrwxrwx 1 dan dan  67784105 Mar 27 14:38 \u001b[01;32mNESM3_daily_rainfall_NSW.csv\u001b[0m*\n",
      "-rwxrwxrwx 1 dan dan  95640682 Mar 27 14:38 \u001b[01;32mMPI-ESM1-2-LR_daily_rainfall_NSW.csv\u001b[0m*\n",
      "-rwxrwxrwx 1 dan dan 114707410 Mar 27 14:38 \u001b[01;32mACCESS-ESM1-5_daily_rainfall_NSW.csv\u001b[0m*\n",
      "-rwxrwxrwx 1 dan dan 116179272 Mar 27 14:38 \u001b[01;32mFGOALS-g3_daily_rainfall_NSW.csv\u001b[0m*\n",
      "-rwxrwxrwx 1 dan dan 102517965 Mar 27 14:38 \u001b[01;32mINM-CM4-8_daily_rainfall_NSW.csv\u001b[0m*\n",
      "-rwxrwxrwx 1 dan dan 515458033 Mar 27 14:39 \u001b[01;32mMPI-ESM1-2-HR_daily_rainfall_NSW.csv\u001b[0m*\n",
      "-rwxrwxrwx 1 dan dan 332813281 Mar 27 14:39 \u001b[01;32mTaiESM1_daily_rainfall_NSW.csv\u001b[0m*\n",
      "-rwxrwxrwx 1 dan dan 337555851 Mar 27 14:39 \u001b[01;32mNorESM2-MM_daily_rainfall_NSW.csv\u001b[0m*\n",
      "-rwxrwxrwx 1 dan dan 328787320 Mar 27 14:39 \u001b[01;32mCMCC-CM2-SR5_daily_rainfall_NSW.csv\u001b[0m*\n",
      "-rwxrwxrwx 1 dan dan    952202 Mar 27 14:39 \u001b[01;32mobserved_daily_rainfall_SYD.csv\u001b[0m*\n",
      "-rwxrwxrwx 1 dan dan  93829697 Mar 27 14:39 \u001b[01;32mKIOST-ESM_daily_rainfall_NSW.csv\u001b[0m*\n",
      "-rwxrwxrwx 1 dan dan 102692289 Mar 27 14:39 \u001b[01;32mINM-CM5-0_daily_rainfall_NSW.csv\u001b[0m*\n",
      "-rwxrwxrwx 1 dan dan 206822938 Mar 27 14:39 \u001b[01;32mMIROC6_daily_rainfall_NSW.csv\u001b[0m*\n",
      "-rwxrwxrwx 1 dan dan  55224437 Mar 27 14:39 \u001b[01;32mBCC-ESM1_daily_rainfall_NSW.csv\u001b[0m*\n",
      "-rwxrwxrwx 1 dan dan 124586961 Mar 27 14:39 \u001b[01;32mGFDL-ESM4_daily_rainfall_NSW.csv\u001b[0m*\n",
      "-rwxrwxrwx 1 dan dan  46286371 Mar 27 14:39 \u001b[01;32mCanESM5_daily_rainfall_NSW.csv\u001b[0m*\n",
      "-rwxrwxrwx 1 dan dan 333489879 Mar 27 14:39 \u001b[01;32mSAM0-UNICON_daily_rainfall_NSW.csv\u001b[0m*\n",
      "drwxrwxrwx 1 dan dan      8192 Mar 27 14:39 \u001b[34;42m__MACOSX\u001b[0m/\n",
      "-rwxrwxrwx 1 dan dan 555991040 Mar 27 15:29 \u001b[01;32mdata.zip\u001b[0m*\n"
     ]
    }
   ],
   "source": [
    "%ls -ltr figshareairline/"
   ]
  },
  {
   "cell_type": "markdown",
   "metadata": {},
   "source": [
    "<br>\n",
    "<br>\n",
    "<br>\n",
    "<br>\n",
    "<br>\n",
    "\n",
    "## 4. Loading the data with Pandas"
   ]
  },
  {
   "cell_type": "code",
   "execution_count": 8,
   "metadata": {},
   "outputs": [
    {
     "name": "stdout",
     "output_type": "stream",
     "text": [
      "CPU times: user 8min 8s, sys: 30.1 s, total: 8min 38s\n",
      "Wall time: 10min 41s\n"
     ]
    }
   ],
   "source": [
    "%%time\n",
    "## This is all the data as is\n",
    "\n",
    "files = glob.glob('figshareairline/*.csv')\n",
    "files.remove(\"figshareairline/observed_daily_rainfall_SYD.csv\")\n",
    "df = pd.concat((pd.read_csv(file, index_col=0)\n",
    "                .assign(model=re.findall(\"/([^_]*)\", file)[0])\n",
    "                for file in files)\n",
    "              )\n",
    "df.to_csv(\"figshareairline/combined_data.csv\")"
   ]
  },
  {
   "cell_type": "markdown",
   "metadata": {},
   "source": [
    "| Team Member |\tOperating System | RAM | Processor | Is SSD  | Time taken \n",
    "|---|---|---|---|---|---|\n",
    "| Alex  |  MacOS | 24gb  | M2  | Yes  | 3min 14s  |\n",
    "| Daniel  |Ubuntu 22.04.2 LTS|20 GB|Intel® Core™ i5-6200U CPU @ 2.30GHz × 4|Yes|10min 41s|\n",
    "| Ranjit  |       |   |   |   |   |\n",
    "| Gaoxiang |      |   |   |   |   |\n",
    "\n"
   ]
  },
  {
   "cell_type": "markdown",
   "metadata": {},
   "source": [
    "<br>\n",
    "<br>\n",
    "<br>\n",
    "<br>\n",
    "<br>\n",
    "\n",
    "## 5. Python EDA"
   ]
  },
  {
   "cell_type": "code",
   "execution_count": 13,
   "metadata": {},
   "outputs": [
    {
     "name": "stdout",
     "output_type": "stream",
     "text": [
      "CPU times: user 11.6 s, sys: 13.1 s, total: 24.7 s\n",
      "Wall time: 24.8 s\n"
     ]
    },
    {
     "data": {
      "text/html": [
       "<div>\n",
       "<style scoped>\n",
       "    .dataframe tbody tr th:only-of-type {\n",
       "        vertical-align: middle;\n",
       "    }\n",
       "\n",
       "    .dataframe tbody tr th {\n",
       "        vertical-align: top;\n",
       "    }\n",
       "\n",
       "    .dataframe thead th {\n",
       "        text-align: right;\n",
       "    }\n",
       "</style>\n",
       "<table border=\"1\" class=\"dataframe\">\n",
       "  <thead>\n",
       "    <tr style=\"text-align: right;\">\n",
       "      <th></th>\n",
       "      <th>lat_min</th>\n",
       "      <th>lat_max</th>\n",
       "      <th>lon_min</th>\n",
       "      <th>lon_max</th>\n",
       "      <th>rain (mm/day)</th>\n",
       "    </tr>\n",
       "  </thead>\n",
       "  <tbody>\n",
       "    <tr>\n",
       "      <th>count</th>\n",
       "      <td>5.924854e+07</td>\n",
       "      <td>6.246784e+07</td>\n",
       "      <td>5.924854e+07</td>\n",
       "      <td>6.246784e+07</td>\n",
       "      <td>5.924854e+07</td>\n",
       "    </tr>\n",
       "    <tr>\n",
       "      <th>mean</th>\n",
       "      <td>-3.310482e+01</td>\n",
       "      <td>-3.197757e+01</td>\n",
       "      <td>1.469059e+02</td>\n",
       "      <td>1.482150e+02</td>\n",
       "      <td>1.901170e+00</td>\n",
       "    </tr>\n",
       "    <tr>\n",
       "      <th>std</th>\n",
       "      <td>1.963549e+00</td>\n",
       "      <td>1.992067e+00</td>\n",
       "      <td>3.793784e+00</td>\n",
       "      <td>3.809994e+00</td>\n",
       "      <td>5.585735e+00</td>\n",
       "    </tr>\n",
       "    <tr>\n",
       "      <th>min</th>\n",
       "      <td>-3.646739e+01</td>\n",
       "      <td>-3.600000e+01</td>\n",
       "      <td>1.406250e+02</td>\n",
       "      <td>1.412500e+02</td>\n",
       "      <td>-3.807373e-12</td>\n",
       "    </tr>\n",
       "    <tr>\n",
       "      <th>25%</th>\n",
       "      <td>-3.486911e+01</td>\n",
       "      <td>-3.366221e+01</td>\n",
       "      <td>1.434375e+02</td>\n",
       "      <td>1.450000e+02</td>\n",
       "      <td>3.838413e-06</td>\n",
       "    </tr>\n",
       "    <tr>\n",
       "      <th>50%</th>\n",
       "      <td>-3.300000e+01</td>\n",
       "      <td>-3.204188e+01</td>\n",
       "      <td>1.468750e+02</td>\n",
       "      <td>1.481250e+02</td>\n",
       "      <td>6.154947e-02</td>\n",
       "    </tr>\n",
       "    <tr>\n",
       "      <th>75%</th>\n",
       "      <td>-3.140170e+01</td>\n",
       "      <td>-3.015707e+01</td>\n",
       "      <td>1.501875e+02</td>\n",
       "      <td>1.513125e+02</td>\n",
       "      <td>1.020918e+00</td>\n",
       "    </tr>\n",
       "    <tr>\n",
       "      <th>max</th>\n",
       "      <td>-2.990000e+01</td>\n",
       "      <td>-2.790606e+01</td>\n",
       "      <td>1.537500e+02</td>\n",
       "      <td>1.556250e+02</td>\n",
       "      <td>4.329395e+02</td>\n",
       "    </tr>\n",
       "  </tbody>\n",
       "</table>\n",
       "</div>"
      ],
      "text/plain": [
       "            lat_min       lat_max       lon_min       lon_max  rain (mm/day)\n",
       "count  5.924854e+07  6.246784e+07  5.924854e+07  6.246784e+07   5.924854e+07\n",
       "mean  -3.310482e+01 -3.197757e+01  1.469059e+02  1.482150e+02   1.901170e+00\n",
       "std    1.963549e+00  1.992067e+00  3.793784e+00  3.809994e+00   5.585735e+00\n",
       "min   -3.646739e+01 -3.600000e+01  1.406250e+02  1.412500e+02  -3.807373e-12\n",
       "25%   -3.486911e+01 -3.366221e+01  1.434375e+02  1.450000e+02   3.838413e-06\n",
       "50%   -3.300000e+01 -3.204188e+01  1.468750e+02  1.481250e+02   6.154947e-02\n",
       "75%   -3.140170e+01 -3.015707e+01  1.501875e+02  1.513125e+02   1.020918e+00\n",
       "max   -2.990000e+01 -2.790606e+01  1.537500e+02  1.556250e+02   4.329395e+02"
      ]
     },
     "execution_count": 13,
     "metadata": {},
     "output_type": "execute_result"
    }
   ],
   "source": [
    "%%time\n",
    "\n",
    "df.describe()"
   ]
  },
  {
   "cell_type": "code",
   "execution_count": 14,
   "metadata": {},
   "outputs": [
    {
     "name": "stdout",
     "output_type": "stream",
     "text": [
      "CPU times: user 9.56 s, sys: 3.79 s, total: 13.3 s\n",
      "Wall time: 13.4 s\n"
     ]
    },
    {
     "data": {
      "text/html": [
       "<div>\n",
       "<style scoped>\n",
       "    .dataframe tbody tr th:only-of-type {\n",
       "        vertical-align: middle;\n",
       "    }\n",
       "\n",
       "    .dataframe tbody tr th {\n",
       "        vertical-align: top;\n",
       "    }\n",
       "\n",
       "    .dataframe thead th {\n",
       "        text-align: right;\n",
       "    }\n",
       "</style>\n",
       "<table border=\"1\" class=\"dataframe\">\n",
       "  <thead>\n",
       "    <tr style=\"text-align: right;\">\n",
       "      <th></th>\n",
       "      <th>lat_min</th>\n",
       "      <th>lat_max</th>\n",
       "      <th>lon_min</th>\n",
       "      <th>lon_max</th>\n",
       "      <th>rain (mm/day)</th>\n",
       "    </tr>\n",
       "  </thead>\n",
       "  <tbody>\n",
       "    <tr>\n",
       "      <th>count</th>\n",
       "      <td>5.924854e+07</td>\n",
       "      <td>6.246784e+07</td>\n",
       "      <td>5.924854e+07</td>\n",
       "      <td>6.246784e+07</td>\n",
       "      <td>5.924854e+07</td>\n",
       "    </tr>\n",
       "    <tr>\n",
       "      <th>mean</th>\n",
       "      <td>-3.310468e+01</td>\n",
       "      <td>-3.197750e+01</td>\n",
       "      <td>1.469054e+02</td>\n",
       "      <td>1.482152e+02</td>\n",
       "      <td>1.901175e+00</td>\n",
       "    </tr>\n",
       "    <tr>\n",
       "      <th>std</th>\n",
       "      <td>1.963549e+00</td>\n",
       "      <td>1.992067e+00</td>\n",
       "      <td>3.793784e+00</td>\n",
       "      <td>3.809994e+00</td>\n",
       "      <td>5.585735e+00</td>\n",
       "    </tr>\n",
       "    <tr>\n",
       "      <th>min</th>\n",
       "      <td>-3.646739e+01</td>\n",
       "      <td>-3.600000e+01</td>\n",
       "      <td>1.406250e+02</td>\n",
       "      <td>1.412500e+02</td>\n",
       "      <td>-3.807373e-12</td>\n",
       "    </tr>\n",
       "    <tr>\n",
       "      <th>25%</th>\n",
       "      <td>-3.486911e+01</td>\n",
       "      <td>-3.366221e+01</td>\n",
       "      <td>1.434375e+02</td>\n",
       "      <td>1.450000e+02</td>\n",
       "      <td>3.838413e-06</td>\n",
       "    </tr>\n",
       "    <tr>\n",
       "      <th>50%</th>\n",
       "      <td>-3.300000e+01</td>\n",
       "      <td>-3.204189e+01</td>\n",
       "      <td>1.468750e+02</td>\n",
       "      <td>1.481250e+02</td>\n",
       "      <td>6.154947e-02</td>\n",
       "    </tr>\n",
       "    <tr>\n",
       "      <th>75%</th>\n",
       "      <td>-3.140170e+01</td>\n",
       "      <td>-3.015707e+01</td>\n",
       "      <td>1.501875e+02</td>\n",
       "      <td>1.513125e+02</td>\n",
       "      <td>1.020918e+00</td>\n",
       "    </tr>\n",
       "    <tr>\n",
       "      <th>max</th>\n",
       "      <td>-2.990000e+01</td>\n",
       "      <td>-2.790606e+01</td>\n",
       "      <td>1.537500e+02</td>\n",
       "      <td>1.556250e+02</td>\n",
       "      <td>4.329395e+02</td>\n",
       "    </tr>\n",
       "  </tbody>\n",
       "</table>\n",
       "</div>"
      ],
      "text/plain": [
       "            lat_min       lat_max       lon_min       lon_max  rain (mm/day)\n",
       "count  5.924854e+07  6.246784e+07  5.924854e+07  6.246784e+07   5.924854e+07\n",
       "mean  -3.310468e+01 -3.197750e+01  1.469054e+02  1.482152e+02   1.901175e+00\n",
       "std    1.963549e+00  1.992067e+00  3.793784e+00  3.809994e+00   5.585735e+00\n",
       "min   -3.646739e+01 -3.600000e+01  1.406250e+02  1.412500e+02  -3.807373e-12\n",
       "25%   -3.486911e+01 -3.366221e+01  1.434375e+02  1.450000e+02   3.838413e-06\n",
       "50%   -3.300000e+01 -3.204189e+01  1.468750e+02  1.481250e+02   6.154947e-02\n",
       "75%   -3.140170e+01 -3.015707e+01  1.501875e+02  1.513125e+02   1.020918e+00\n",
       "max   -2.990000e+01 -2.790606e+01  1.537500e+02  1.556250e+02   4.329395e+02"
      ]
     },
     "execution_count": 14,
     "metadata": {},
     "output_type": "execute_result"
    }
   ],
   "source": [
    "%%time\n",
    "\n",
    "df[['lat_min','lat_max','lon_min','lon_max','rain (mm/day)']].astype('float32', errors='ignore').describe()"
   ]
  },
  {
   "cell_type": "code",
   "execution_count": 15,
   "metadata": {},
   "outputs": [
    {
     "name": "stdout",
     "output_type": "stream",
     "text": [
      "CPU times: user 3.07 s, sys: 132 ms, total: 3.2 s\n",
      "Wall time: 3.2 s\n"
     ]
    },
    {
     "data": {
      "text/plain": [
       "count    5.924854e+07\n",
       "mean     1.901170e+00\n",
       "std      5.585735e+00\n",
       "min     -3.807373e-12\n",
       "25%      3.838413e-06\n",
       "50%      6.154947e-02\n",
       "75%      1.020918e+00\n",
       "max      4.329395e+02\n",
       "Name: rain (mm/day), dtype: float64"
      ]
     },
     "execution_count": 15,
     "metadata": {},
     "output_type": "execute_result"
    }
   ],
   "source": [
    "%%time\n",
    "\n",
    "df.loc[:,'rain (mm/day)'].describe()"
   ]
  },
  {
   "cell_type": "markdown",
   "metadata": {},
   "source": [
    "| Team Member |\tOperating System | RAM | Processor | Is SSD  | Time taken (total; casted; single column)\n",
    "|---|---|---|---|---|---|\n",
    "| Alex  |  MacOS | 24gb  | M2  | Yes  | 8.62 s; 7.81 s; 2.2 s  |\n",
    "| Daniel  |Ubuntu 22.04.2 LTS|20 GB|Intel® Core™ i5-6200U CPU @ 2.30GHz × 4|Yes|24.8 s; 13.4 s; 3.2 s|\n",
    "| Ranjit  |       |   |   |   |   |\n",
    "| Gaoxiang |      |   |   |   |   |\n",
    "\n",
    "\n",
    "The fastest approach that we tested was to use only the column that we wanted to summarize (which in this case was the rain). Casting the data as float 32s did improve speed but the difference was not dramatic. "
   ]
  },
  {
   "cell_type": "markdown",
   "metadata": {},
   "source": [
    "<br>\n",
    "<br>\n",
    "<br>\n",
    "<br>\n",
    "<br>\n",
    "\n",
    "## 6. R EDA"
   ]
  },
  {
   "cell_type": "code",
   "execution_count": 58,
   "metadata": {},
   "outputs": [],
   "source": [
    "%load_ext rpy2.ipython\n"
   ]
  },
  {
   "cell_type": "code",
   "execution_count": 59,
   "metadata": {},
   "outputs": [],
   "source": [
    "filepathcsv = \"/Users/ataciuk/Documents/MDS/525_cloud-computing/figshareairline/combined_data.csv\""
   ]
  },
  {
   "cell_type": "code",
   "execution_count": 67,
   "metadata": {},
   "outputs": [],
   "source": [
    "import pyarrow.dataset as ds\n",
    "import pyarrow as pa\n",
    "from pyarrow import csv\n",
    "import rpy2_arrow.pyarrow_rarrow as pyra"
   ]
  },
  {
   "cell_type": "code",
   "execution_count": 68,
   "metadata": {},
   "outputs": [
    {
     "name": "stdout",
     "output_type": "stream",
     "text": [
      "CPU times: user 11 s, sys: 1.21 s, total: 12.3 s\n",
      "Wall time: 11.4 s\n"
     ]
    }
   ],
   "source": [
    "%%time\n",
    "\n",
    "dataset = ds.dataset(filepathcsv, format=\"csv\")\n",
    "# Converting the `pyarrow dataset` to a `pyarrow table`\n",
    "table = dataset.to_table()\n",
    "# Converting a `pyarrow table` to a `rarrow table`\n",
    "r_table = pyra.converter.py2rpy(table)"
   ]
  },
  {
   "cell_type": "code",
   "execution_count": 71,
   "metadata": {},
   "outputs": [
    {
     "name": "stdout",
     "output_type": "stream",
     "text": [
      "# A tibble: 27 × 2\n",
      "   model                  n\n",
      "   <chr>              <int>\n",
      " 1 MPI-ESM-1-2-HAM   966420\n",
      " 2 AWI-ESM-1-1-LR    966420\n",
      " 3 NorESM2-LM        919800\n",
      " 4 ACCESS-CM2       1932840\n",
      " 5 FGOALS-f3-L      3219300\n",
      " 6 CMCC-CM2-HR4     3541230\n",
      " 7 MRI-ESM2-0       3037320\n",
      " 8 GFDL-CM4         3219300\n",
      " 9 BCC-CSM2-MR      3035340\n",
      "10 EC-Earth3-Veg-LR 3037320\n",
      "# ℹ 17 more rows\n",
      "# ℹ Use `print(n = ...)` to see more rows\n",
      "CPU times: user 1.17 s, sys: 282 ms, total: 1.46 s\n",
      "Wall time: 260 ms\n"
     ]
    }
   ],
   "source": [
    "%%time\n",
    "\n",
    "%%R -i r_table\n",
    "\n",
    "suppressMessages(library(dplyr))\n",
    "result <- r_table %>% count(model)\n",
    "print(result %>% collect())\n"
   ]
  },
  {
   "cell_type": "code",
   "execution_count": 72,
   "metadata": {},
   "outputs": [
    {
     "name": "stdout",
     "output_type": "stream",
     "text": [
      "# A tibble: 62,467,843 × 7\n",
      "   time                lat_min lat_max lon_min lon_max `rain (mm/day)` model    \n",
      "   <dttm>                <dbl>   <dbl>   <dbl>   <dbl>           <dbl> <chr>    \n",
      " 1 1889-01-01 04:00:00   -35.4   -33.6    142.    143.        4.24e-13 MPI-ESM-…\n",
      " 2 1889-01-02 04:00:00   -35.4   -33.6    142.    143.        4.22e-13 MPI-ESM-…\n",
      " 3 1889-01-03 04:00:00   -35.4   -33.6    142.    143.        4.50e-13 MPI-ESM-…\n",
      " 4 1889-01-04 04:00:00   -35.4   -33.6    142.    143.        4.25e-13 MPI-ESM-…\n",
      " 5 1889-01-05 04:00:00   -35.4   -33.6    142.    143.        4.27e-13 MPI-ESM-…\n",
      " 6 1889-01-06 04:00:00   -35.4   -33.6    142.    143.        4.20e-13 MPI-ESM-…\n",
      " 7 1889-01-07 04:00:00   -35.4   -33.6    142.    143.        4.19e-13 MPI-ESM-…\n",
      " 8 1889-01-08 04:00:00   -35.4   -33.6    142.    143.        4.56e-13 MPI-ESM-…\n",
      " 9 1889-01-09 04:00:00   -35.4   -33.6    142.    143.        2.53e+ 0 MPI-ESM-…\n",
      "10 1889-01-10 04:00:00   -35.4   -33.6    142.    143.        4.12e- 2 MPI-ESM-…\n",
      "# ℹ 62,467,833 more rows\n",
      "# ℹ Use `print(n = ...)` to see more rows\n",
      "CPU times: user 2.38 s, sys: 1.5 s, total: 3.88 s\n",
      "Wall time: 3.91 s\n"
     ]
    }
   ],
   "source": [
    "%%time\n",
    "\n",
    "%%R -i r_table\n",
    "\n",
    "suppressMessages(library(dplyr))\n",
    "result <- r_table %>% count(model)\n",
    "print(result %>% collect())\n"
   ]
  },
  {
   "cell_type": "code",
   "execution_count": 69,
   "metadata": {},
   "outputs": [
    {
     "name": "stdout",
     "output_type": "stream",
     "text": [
      "Table (query)\n",
      "model: string\n",
      "n: int32\n",
      "\n",
      "See $.data for the source Arrow object\n"
     ]
    }
   ],
   "source": [
    "%%R -i r_table\n",
    "\n",
    "result"
   ]
  }
 ],
 "metadata": {
  "kernelspec": {
   "display_name": "Python [conda env:525_2023]",
   "language": "python",
   "name": "conda-env-525_2023-py"
  },
  "language_info": {
   "codemirror_mode": {
    "name": "ipython",
    "version": 3
   },
   "file_extension": ".py",
   "mimetype": "text/x-python",
   "name": "python",
   "nbconvert_exporter": "python",
   "pygments_lexer": "ipython3",
   "version": "3.10.10"
  }
 },
 "nbformat": 4,
 "nbformat_minor": 4
}
