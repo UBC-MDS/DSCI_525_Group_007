{
 "cells": [
  {
   "cell_type": "markdown",
   "metadata": {},
   "source": [
    "# Task 3"
   ]
  },
  {
   "cell_type": "markdown",
   "metadata": {},
   "source": [
    "This notebook is part of Milestone 3, Question 3. You can work on this notebook on your laptop to develop your machine learning model using all the learnings from the previous courses. At the end of this notebook, when you are ready to train the model, you will need to obtain the hyperparameters from the hyperparameter tuning job that you will run in Milestone 3 Question 4 (i.e., the notebook named `Milestone3-Task4.ipynb`).\n",
    "\n",
    "PS: To speed up the process, you can test the model without the hyperparameters first. Once other team members obtain the hyperparameters, you can retrain the model using those hyperparameters and test it again."
   ]
  },
  {
   "cell_type": "code",
   "execution_count": 7,
   "metadata": {},
   "outputs": [],
   "source": [
    "# I asked them to use their laptop so they already got all these packages from previous courses.\n",
    "# %pip install joblib scikit-learn matplotlib s3fs"
   ]
  },
  {
   "cell_type": "markdown",
   "metadata": {},
   "source": [
    "# Imports"
   ]
  },
  {
   "cell_type": "code",
   "execution_count": 8,
   "metadata": {},
   "outputs": [],
   "source": [
    "import numpy as np\n",
    "import pandas as pd\n",
    "from joblib import dump, load\n",
    "from sklearn.metrics import mean_squared_error\n",
    "from sklearn.ensemble import RandomForestRegressor\n",
    "from sklearn.model_selection import train_test_split\n",
    "import matplotlib.pyplot as plt\n",
    "plt.style.use('ggplot')\n",
    "plt.rcParams.update({'font.size': 16, 'axes.labelweight': 'bold', 'figure.figsize': (8,6)})\n",
    "## add any other additional packages that you need. You are free to use any packages for vizualization."
   ]
  },
  {
   "cell_type": "markdown",
   "metadata": {},
   "source": [
    "## Part 1:"
   ]
  },
  {
   "cell_type": "markdown",
   "metadata": {},
   "source": [
    "Recall as a final goal of this project. We want to build and deploy ensemble machine learning models in the cloud, where features are outputs of different climate models and the target is the actual rainfall observation. In this milestone, you'll actually build these ensemble machine learning models in the cloud.  \n",
    "\n",
    "**Your tasks:**\n",
    "\n",
    "1. Read the data CSV from your s3 bucket. \n",
    "2. Drop rows with nans. \n",
    "3. Split the data into train (80%) and test (20%) portions with `random_state=123`. \n",
    "4. Carry out EDA of your choice on the train split. \n",
    "5. Train ensemble machine learning model using `RandomForestRegressor` and evaluate with metric of your choice (e.g., `RMSE`) by considering `Observed` as the target column. \n",
    "6. Discuss your results. Are you getting better results with ensemble models compared to the individual climate models? \n",
    "\n",
    "> Recall that individual columns in the data are predictions of different climate models. "
   ]
  },
  {
   "cell_type": "code",
   "execution_count": 9,
   "metadata": {},
   "outputs": [],
   "source": [
    "## Remember by default it looks for credentials in home directory. \n",
    "## Make sure your updated credentials are in home directory\n",
    "## or pass credentials explicitly and pass as storage_options=aws_credentials (not a good idea)\n",
    "# aws_credentials = {\"key\": \"\",\"secret\": \"\",\"token\":\"\"}\n",
    "# replace with s3 path to your data"
   ]
  },
  {
   "cell_type": "code",
   "execution_count": 10,
   "metadata": {},
   "outputs": [],
   "source": [
    "## Use your ML skills to get from step 1 to step 6"
   ]
  },
  {
   "cell_type": "code",
   "execution_count": 11,
   "metadata": {},
   "outputs": [],
   "source": [
    "# step 1 \n",
    "df = pd.read_csv(\"ml_data_SYD.csv\", index_col=0, parse_dates=True) "
   ]
  },
  {
   "cell_type": "code",
   "execution_count": 12,
   "metadata": {},
   "outputs": [],
   "source": [
    "# step 2 \n",
    "df = df.dropna()"
   ]
  },
  {
   "cell_type": "code",
   "execution_count": 13,
   "metadata": {},
   "outputs": [],
   "source": [
    "# step 3 \n",
    "train_df, test_df = train_test_split(df, test_size=0.20, random_state=123)\n",
    "X_train, y_train = (\n",
    "    train_df.drop(columns=[\"observed\"]),\n",
    "    train_df[\"observed\"],\n",
    ")\n",
    "X_test, y_test = (\n",
    "    test_df.drop(columns=[\"observed\"]),\n",
    "    test_df[\"observed\"],\n",
    ")"
   ]
  },
  {
   "cell_type": "code",
   "execution_count": 14,
   "metadata": {},
   "outputs": [
    {
     "data": {
      "text/html": [
       "<div>\n",
       "<style scoped>\n",
       "    .dataframe tbody tr th:only-of-type {\n",
       "        vertical-align: middle;\n",
       "    }\n",
       "\n",
       "    .dataframe tbody tr th {\n",
       "        vertical-align: top;\n",
       "    }\n",
       "\n",
       "    .dataframe thead th {\n",
       "        text-align: right;\n",
       "    }\n",
       "</style>\n",
       "<table border=\"1\" class=\"dataframe\">\n",
       "  <thead>\n",
       "    <tr style=\"text-align: right;\">\n",
       "      <th></th>\n",
       "      <th>ACCESS-CM2</th>\n",
       "      <th>ACCESS-ESM1-5</th>\n",
       "      <th>AWI-ESM-1-1-LR</th>\n",
       "      <th>BCC-CSM2-MR</th>\n",
       "      <th>BCC-ESM1</th>\n",
       "      <th>CMCC-CM2-HR4</th>\n",
       "      <th>CMCC-CM2-SR5</th>\n",
       "      <th>CMCC-ESM2</th>\n",
       "      <th>CanESM5</th>\n",
       "      <th>EC-Earth3-Veg-LR</th>\n",
       "      <th>...</th>\n",
       "      <th>MPI-ESM-1-2-HAM</th>\n",
       "      <th>MPI-ESM1-2-HR</th>\n",
       "      <th>MPI-ESM1-2-LR</th>\n",
       "      <th>MRI-ESM2-0</th>\n",
       "      <th>NESM3</th>\n",
       "      <th>NorESM2-LM</th>\n",
       "      <th>NorESM2-MM</th>\n",
       "      <th>SAM0-UNICON</th>\n",
       "      <th>TaiESM1</th>\n",
       "      <th>observed</th>\n",
       "    </tr>\n",
       "  </thead>\n",
       "  <tbody>\n",
       "    <tr>\n",
       "      <th>count</th>\n",
       "      <td>36791.000000</td>\n",
       "      <td>36791.000000</td>\n",
       "      <td>3.679100e+04</td>\n",
       "      <td>3.679100e+04</td>\n",
       "      <td>3.679100e+04</td>\n",
       "      <td>36791.000000</td>\n",
       "      <td>3.679100e+04</td>\n",
       "      <td>3.679100e+04</td>\n",
       "      <td>36791.000000</td>\n",
       "      <td>3.679100e+04</td>\n",
       "      <td>...</td>\n",
       "      <td>3.679100e+04</td>\n",
       "      <td>3.679100e+04</td>\n",
       "      <td>3.679100e+04</td>\n",
       "      <td>3.679100e+04</td>\n",
       "      <td>3.679100e+04</td>\n",
       "      <td>36791.000000</td>\n",
       "      <td>36791.000000</td>\n",
       "      <td>3.679100e+04</td>\n",
       "      <td>3.679100e+04</td>\n",
       "      <td>36791.000000</td>\n",
       "    </tr>\n",
       "    <tr>\n",
       "      <th>mean</th>\n",
       "      <td>2.429419</td>\n",
       "      <td>2.938955</td>\n",
       "      <td>3.716329e+00</td>\n",
       "      <td>2.203086e+00</td>\n",
       "      <td>2.748441e+00</td>\n",
       "      <td>3.092784</td>\n",
       "      <td>3.575203e+00</td>\n",
       "      <td>3.489756e+00</td>\n",
       "      <td>2.879339</td>\n",
       "      <td>2.565430e+00</td>\n",
       "      <td>...</td>\n",
       "      <td>3.213535e+00</td>\n",
       "      <td>1.299377e+00</td>\n",
       "      <td>2.041242e+00</td>\n",
       "      <td>1.533212e+00</td>\n",
       "      <td>1.726792e+00</td>\n",
       "      <td>2.458268</td>\n",
       "      <td>2.890478</td>\n",
       "      <td>3.383557e+00</td>\n",
       "      <td>3.417809e+00</td>\n",
       "      <td>2.726320</td>\n",
       "    </tr>\n",
       "    <tr>\n",
       "      <th>std</th>\n",
       "      <td>6.791374</td>\n",
       "      <td>7.048794</td>\n",
       "      <td>7.280859e+00</td>\n",
       "      <td>6.518224e+00</td>\n",
       "      <td>5.997439e+00</td>\n",
       "      <td>6.459254</td>\n",
       "      <td>7.353451e+00</td>\n",
       "      <td>7.039201e+00</td>\n",
       "      <td>6.898890</td>\n",
       "      <td>5.732742e+00</td>\n",
       "      <td>...</td>\n",
       "      <td>6.979341e+00</td>\n",
       "      <td>4.890737e+00</td>\n",
       "      <td>5.347782e+00</td>\n",
       "      <td>5.000287e+00</td>\n",
       "      <td>4.872754e+00</td>\n",
       "      <td>5.815333</td>\n",
       "      <td>7.129072</td>\n",
       "      <td>7.927354e+00</td>\n",
       "      <td>7.558577e+00</td>\n",
       "      <td>8.078310</td>\n",
       "    </tr>\n",
       "    <tr>\n",
       "      <th>min</th>\n",
       "      <td>0.000000</td>\n",
       "      <td>0.000000</td>\n",
       "      <td>9.161142e-14</td>\n",
       "      <td>4.211430e-24</td>\n",
       "      <td>1.091904e-24</td>\n",
       "      <td>0.000000</td>\n",
       "      <td>-4.503054e-17</td>\n",
       "      <td>-3.186177e-19</td>\n",
       "      <td>0.000000</td>\n",
       "      <td>-9.934637e-19</td>\n",
       "      <td>...</td>\n",
       "      <td>3.315622e-13</td>\n",
       "      <td>1.088608e-13</td>\n",
       "      <td>9.155419e-14</td>\n",
       "      <td>9.479186e-33</td>\n",
       "      <td>1.435053e-13</td>\n",
       "      <td>0.000000</td>\n",
       "      <td>0.000000</td>\n",
       "      <td>-3.604673e-17</td>\n",
       "      <td>-2.148475e-14</td>\n",
       "      <td>0.000000</td>\n",
       "    </tr>\n",
       "    <tr>\n",
       "      <th>25%</th>\n",
       "      <td>0.054108</td>\n",
       "      <td>0.021248</td>\n",
       "      <td>2.961787e-02</td>\n",
       "      <td>5.089918e-04</td>\n",
       "      <td>2.381995e-03</td>\n",
       "      <td>0.138315</td>\n",
       "      <td>8.899328e-02</td>\n",
       "      <td>9.271159e-02</td>\n",
       "      <td>0.022493</td>\n",
       "      <td>1.201630e-02</td>\n",
       "      <td>...</td>\n",
       "      <td>1.169275e-04</td>\n",
       "      <td>1.270013e-13</td>\n",
       "      <td>1.358104e-13</td>\n",
       "      <td>5.380599e-05</td>\n",
       "      <td>1.866808e-13</td>\n",
       "      <td>0.005478</td>\n",
       "      <td>0.010013</td>\n",
       "      <td>3.651962e-02</td>\n",
       "      <td>4.934874e-02</td>\n",
       "      <td>0.008084</td>\n",
       "    </tr>\n",
       "    <tr>\n",
       "      <th>50%</th>\n",
       "      <td>0.192980</td>\n",
       "      <td>0.492758</td>\n",
       "      <td>5.923147e-01</td>\n",
       "      <td>9.644146e-02</td>\n",
       "      <td>2.986511e-01</td>\n",
       "      <td>0.633548</td>\n",
       "      <td>8.278889e-01</td>\n",
       "      <td>8.486242e-01</td>\n",
       "      <td>0.337613</td>\n",
       "      <td>4.296779e-01</td>\n",
       "      <td>...</td>\n",
       "      <td>2.081838e-01</td>\n",
       "      <td>1.579151e-03</td>\n",
       "      <td>1.140358e-01</td>\n",
       "      <td>3.185565e-02</td>\n",
       "      <td>4.989652e-02</td>\n",
       "      <td>0.169617</td>\n",
       "      <td>0.255937</td>\n",
       "      <td>6.539921e-01</td>\n",
       "      <td>6.675421e-01</td>\n",
       "      <td>0.163215</td>\n",
       "    </tr>\n",
       "    <tr>\n",
       "      <th>75%</th>\n",
       "      <td>1.445456</td>\n",
       "      <td>2.398539</td>\n",
       "      <td>3.601697e+00</td>\n",
       "      <td>1.318940e+00</td>\n",
       "      <td>2.477893e+00</td>\n",
       "      <td>3.182630</td>\n",
       "      <td>3.727703e+00</td>\n",
       "      <td>3.629963e+00</td>\n",
       "      <td>2.558854</td>\n",
       "      <td>2.295852e+00</td>\n",
       "      <td>...</td>\n",
       "      <td>2.699071e+00</td>\n",
       "      <td>3.465456e-01</td>\n",
       "      <td>1.192421e+00</td>\n",
       "      <td>6.732646e-01</td>\n",
       "      <td>7.874740e-01</td>\n",
       "      <td>1.822582</td>\n",
       "      <td>2.450690</td>\n",
       "      <td>3.275132e+00</td>\n",
       "      <td>3.234430e+00</td>\n",
       "      <td>1.612815</td>\n",
       "    </tr>\n",
       "    <tr>\n",
       "      <th>max</th>\n",
       "      <td>149.967634</td>\n",
       "      <td>157.605713</td>\n",
       "      <td>8.946575e+01</td>\n",
       "      <td>1.344652e+02</td>\n",
       "      <td>8.713472e+01</td>\n",
       "      <td>124.952390</td>\n",
       "      <td>1.401478e+02</td>\n",
       "      <td>1.375916e+02</td>\n",
       "      <td>135.569753</td>\n",
       "      <td>9.642382e+01</td>\n",
       "      <td>...</td>\n",
       "      <td>9.306766e+01</td>\n",
       "      <td>1.095008e+02</td>\n",
       "      <td>7.484368e+01</td>\n",
       "      <td>1.016900e+02</td>\n",
       "      <td>8.045783e+01</td>\n",
       "      <td>114.898109</td>\n",
       "      <td>163.164524</td>\n",
       "      <td>1.549718e+02</td>\n",
       "      <td>1.673562e+02</td>\n",
       "      <td>192.933030</td>\n",
       "    </tr>\n",
       "  </tbody>\n",
       "</table>\n",
       "<p>8 rows × 26 columns</p>\n",
       "</div>"
      ],
      "text/plain": [
       "         ACCESS-CM2  ACCESS-ESM1-5  AWI-ESM-1-1-LR   BCC-CSM2-MR  \\\n",
       "count  36791.000000   36791.000000    3.679100e+04  3.679100e+04   \n",
       "mean       2.429419       2.938955    3.716329e+00  2.203086e+00   \n",
       "std        6.791374       7.048794    7.280859e+00  6.518224e+00   \n",
       "min        0.000000       0.000000    9.161142e-14  4.211430e-24   \n",
       "25%        0.054108       0.021248    2.961787e-02  5.089918e-04   \n",
       "50%        0.192980       0.492758    5.923147e-01  9.644146e-02   \n",
       "75%        1.445456       2.398539    3.601697e+00  1.318940e+00   \n",
       "max      149.967634     157.605713    8.946575e+01  1.344652e+02   \n",
       "\n",
       "           BCC-ESM1  CMCC-CM2-HR4  CMCC-CM2-SR5     CMCC-ESM2       CanESM5  \\\n",
       "count  3.679100e+04  36791.000000  3.679100e+04  3.679100e+04  36791.000000   \n",
       "mean   2.748441e+00      3.092784  3.575203e+00  3.489756e+00      2.879339   \n",
       "std    5.997439e+00      6.459254  7.353451e+00  7.039201e+00      6.898890   \n",
       "min    1.091904e-24      0.000000 -4.503054e-17 -3.186177e-19      0.000000   \n",
       "25%    2.381995e-03      0.138315  8.899328e-02  9.271159e-02      0.022493   \n",
       "50%    2.986511e-01      0.633548  8.278889e-01  8.486242e-01      0.337613   \n",
       "75%    2.477893e+00      3.182630  3.727703e+00  3.629963e+00      2.558854   \n",
       "max    8.713472e+01    124.952390  1.401478e+02  1.375916e+02    135.569753   \n",
       "\n",
       "       EC-Earth3-Veg-LR  ...  MPI-ESM-1-2-HAM  MPI-ESM1-2-HR  MPI-ESM1-2-LR  \\\n",
       "count      3.679100e+04  ...     3.679100e+04   3.679100e+04   3.679100e+04   \n",
       "mean       2.565430e+00  ...     3.213535e+00   1.299377e+00   2.041242e+00   \n",
       "std        5.732742e+00  ...     6.979341e+00   4.890737e+00   5.347782e+00   \n",
       "min       -9.934637e-19  ...     3.315622e-13   1.088608e-13   9.155419e-14   \n",
       "25%        1.201630e-02  ...     1.169275e-04   1.270013e-13   1.358104e-13   \n",
       "50%        4.296779e-01  ...     2.081838e-01   1.579151e-03   1.140358e-01   \n",
       "75%        2.295852e+00  ...     2.699071e+00   3.465456e-01   1.192421e+00   \n",
       "max        9.642382e+01  ...     9.306766e+01   1.095008e+02   7.484368e+01   \n",
       "\n",
       "         MRI-ESM2-0         NESM3    NorESM2-LM    NorESM2-MM   SAM0-UNICON  \\\n",
       "count  3.679100e+04  3.679100e+04  36791.000000  36791.000000  3.679100e+04   \n",
       "mean   1.533212e+00  1.726792e+00      2.458268      2.890478  3.383557e+00   \n",
       "std    5.000287e+00  4.872754e+00      5.815333      7.129072  7.927354e+00   \n",
       "min    9.479186e-33  1.435053e-13      0.000000      0.000000 -3.604673e-17   \n",
       "25%    5.380599e-05  1.866808e-13      0.005478      0.010013  3.651962e-02   \n",
       "50%    3.185565e-02  4.989652e-02      0.169617      0.255937  6.539921e-01   \n",
       "75%    6.732646e-01  7.874740e-01      1.822582      2.450690  3.275132e+00   \n",
       "max    1.016900e+02  8.045783e+01    114.898109    163.164524  1.549718e+02   \n",
       "\n",
       "            TaiESM1      observed  \n",
       "count  3.679100e+04  36791.000000  \n",
       "mean   3.417809e+00      2.726320  \n",
       "std    7.558577e+00      8.078310  \n",
       "min   -2.148475e-14      0.000000  \n",
       "25%    4.934874e-02      0.008084  \n",
       "50%    6.675421e-01      0.163215  \n",
       "75%    3.234430e+00      1.612815  \n",
       "max    1.673562e+02    192.933030  \n",
       "\n",
       "[8 rows x 26 columns]"
      ]
     },
     "execution_count": 14,
     "metadata": {},
     "output_type": "execute_result"
    }
   ],
   "source": [
    "# step 4 \n",
    "train_df.describe()"
   ]
  },
  {
   "cell_type": "code",
   "execution_count": 15,
   "metadata": {},
   "outputs": [
    {
     "name": "stdout",
     "output_type": "stream",
     "text": [
      "<class 'pandas.core.frame.DataFrame'>\n",
      "DatetimeIndex: 36791 entries, 1953-10-26 to 1932-01-31\n",
      "Data columns (total 26 columns):\n",
      " #   Column            Non-Null Count  Dtype  \n",
      "---  ------            --------------  -----  \n",
      " 0   ACCESS-CM2        36791 non-null  float64\n",
      " 1   ACCESS-ESM1-5     36791 non-null  float64\n",
      " 2   AWI-ESM-1-1-LR    36791 non-null  float64\n",
      " 3   BCC-CSM2-MR       36791 non-null  float64\n",
      " 4   BCC-ESM1          36791 non-null  float64\n",
      " 5   CMCC-CM2-HR4      36791 non-null  float64\n",
      " 6   CMCC-CM2-SR5      36791 non-null  float64\n",
      " 7   CMCC-ESM2         36791 non-null  float64\n",
      " 8   CanESM5           36791 non-null  float64\n",
      " 9   EC-Earth3-Veg-LR  36791 non-null  float64\n",
      " 10  FGOALS-g3         36791 non-null  float64\n",
      " 11  GFDL-CM4          36791 non-null  float64\n",
      " 12  INM-CM4-8         36791 non-null  float64\n",
      " 13  INM-CM5-0         36791 non-null  float64\n",
      " 14  KIOST-ESM         36791 non-null  float64\n",
      " 15  MIROC6            36791 non-null  float64\n",
      " 16  MPI-ESM-1-2-HAM   36791 non-null  float64\n",
      " 17  MPI-ESM1-2-HR     36791 non-null  float64\n",
      " 18  MPI-ESM1-2-LR     36791 non-null  float64\n",
      " 19  MRI-ESM2-0        36791 non-null  float64\n",
      " 20  NESM3             36791 non-null  float64\n",
      " 21  NorESM2-LM        36791 non-null  float64\n",
      " 22  NorESM2-MM        36791 non-null  float64\n",
      " 23  SAM0-UNICON       36791 non-null  float64\n",
      " 24  TaiESM1           36791 non-null  float64\n",
      " 25  observed          36791 non-null  float64\n",
      "dtypes: float64(26)\n",
      "memory usage: 7.6 MB\n"
     ]
    }
   ],
   "source": [
    "train_df.info()"
   ]
  },
  {
   "cell_type": "code",
   "execution_count": 16,
   "metadata": {},
   "outputs": [
    {
     "data": {
      "text/html": [
       "<style>#sk-container-id-1 {color: black;background-color: white;}#sk-container-id-1 pre{padding: 0;}#sk-container-id-1 div.sk-toggleable {background-color: white;}#sk-container-id-1 label.sk-toggleable__label {cursor: pointer;display: block;width: 100%;margin-bottom: 0;padding: 0.3em;box-sizing: border-box;text-align: center;}#sk-container-id-1 label.sk-toggleable__label-arrow:before {content: \"▸\";float: left;margin-right: 0.25em;color: #696969;}#sk-container-id-1 label.sk-toggleable__label-arrow:hover:before {color: black;}#sk-container-id-1 div.sk-estimator:hover label.sk-toggleable__label-arrow:before {color: black;}#sk-container-id-1 div.sk-toggleable__content {max-height: 0;max-width: 0;overflow: hidden;text-align: left;background-color: #f0f8ff;}#sk-container-id-1 div.sk-toggleable__content pre {margin: 0.2em;color: black;border-radius: 0.25em;background-color: #f0f8ff;}#sk-container-id-1 input.sk-toggleable__control:checked~div.sk-toggleable__content {max-height: 200px;max-width: 100%;overflow: auto;}#sk-container-id-1 input.sk-toggleable__control:checked~label.sk-toggleable__label-arrow:before {content: \"▾\";}#sk-container-id-1 div.sk-estimator input.sk-toggleable__control:checked~label.sk-toggleable__label {background-color: #d4ebff;}#sk-container-id-1 div.sk-label input.sk-toggleable__control:checked~label.sk-toggleable__label {background-color: #d4ebff;}#sk-container-id-1 input.sk-hidden--visually {border: 0;clip: rect(1px 1px 1px 1px);clip: rect(1px, 1px, 1px, 1px);height: 1px;margin: -1px;overflow: hidden;padding: 0;position: absolute;width: 1px;}#sk-container-id-1 div.sk-estimator {font-family: monospace;background-color: #f0f8ff;border: 1px dotted black;border-radius: 0.25em;box-sizing: border-box;margin-bottom: 0.5em;}#sk-container-id-1 div.sk-estimator:hover {background-color: #d4ebff;}#sk-container-id-1 div.sk-parallel-item::after {content: \"\";width: 100%;border-bottom: 1px solid gray;flex-grow: 1;}#sk-container-id-1 div.sk-label:hover label.sk-toggleable__label {background-color: #d4ebff;}#sk-container-id-1 div.sk-serial::before {content: \"\";position: absolute;border-left: 1px solid gray;box-sizing: border-box;top: 0;bottom: 0;left: 50%;z-index: 0;}#sk-container-id-1 div.sk-serial {display: flex;flex-direction: column;align-items: center;background-color: white;padding-right: 0.2em;padding-left: 0.2em;position: relative;}#sk-container-id-1 div.sk-item {position: relative;z-index: 1;}#sk-container-id-1 div.sk-parallel {display: flex;align-items: stretch;justify-content: center;background-color: white;position: relative;}#sk-container-id-1 div.sk-item::before, #sk-container-id-1 div.sk-parallel-item::before {content: \"\";position: absolute;border-left: 1px solid gray;box-sizing: border-box;top: 0;bottom: 0;left: 50%;z-index: -1;}#sk-container-id-1 div.sk-parallel-item {display: flex;flex-direction: column;z-index: 1;position: relative;background-color: white;}#sk-container-id-1 div.sk-parallel-item:first-child::after {align-self: flex-end;width: 50%;}#sk-container-id-1 div.sk-parallel-item:last-child::after {align-self: flex-start;width: 50%;}#sk-container-id-1 div.sk-parallel-item:only-child::after {width: 0;}#sk-container-id-1 div.sk-dashed-wrapped {border: 1px dashed gray;margin: 0 0.4em 0.5em 0.4em;box-sizing: border-box;padding-bottom: 0.4em;background-color: white;}#sk-container-id-1 div.sk-label label {font-family: monospace;font-weight: bold;display: inline-block;line-height: 1.2em;}#sk-container-id-1 div.sk-label-container {text-align: center;}#sk-container-id-1 div.sk-container {/* jupyter's `normalize.less` sets `[hidden] { display: none; }` but bootstrap.min.css set `[hidden] { display: none !important; }` so we also need the `!important` here to be able to override the default hidden behavior on the sphinx rendered scikit-learn.org. See: https://github.com/scikit-learn/scikit-learn/issues/21755 */display: inline-block !important;position: relative;}#sk-container-id-1 div.sk-text-repr-fallback {display: none;}</style><div id=\"sk-container-id-1\" class=\"sk-top-container\"><div class=\"sk-text-repr-fallback\"><pre>Pipeline(steps=[(&#x27;columntransformer&#x27;,\n",
       "                 ColumnTransformer(transformers=[(&#x27;standardscaler&#x27;,\n",
       "                                                  StandardScaler(),\n",
       "                                                  [&#x27;ACCESS-CM2&#x27;,\n",
       "                                                   &#x27;ACCESS-ESM1-5&#x27;,\n",
       "                                                   &#x27;AWI-ESM-1-1-LR&#x27;,\n",
       "                                                   &#x27;BCC-CSM2-MR&#x27;, &#x27;BCC-ESM1&#x27;,\n",
       "                                                   &#x27;CMCC-CM2-HR4&#x27;,\n",
       "                                                   &#x27;CMCC-CM2-SR5&#x27;, &#x27;CMCC-ESM2&#x27;,\n",
       "                                                   &#x27;CanESM5&#x27;,\n",
       "                                                   &#x27;EC-Earth3-Veg-LR&#x27;,\n",
       "                                                   &#x27;FGOALS-g3&#x27;, &#x27;GFDL-CM4&#x27;,\n",
       "                                                   &#x27;INM-CM4-8&#x27;, &#x27;INM-CM5-0&#x27;,\n",
       "                                                   &#x27;KIOST-ESM&#x27;, &#x27;MIROC6&#x27;,\n",
       "                                                   &#x27;MPI-ESM-1-2-HAM&#x27;,\n",
       "                                                   &#x27;MPI-ESM1-2-HR&#x27;,\n",
       "                                                   &#x27;MPI-ESM1-2-LR&#x27;,\n",
       "                                                   &#x27;MRI-ESM2-0&#x27;, &#x27;NESM3&#x27;,\n",
       "                                                   &#x27;NorESM2-LM&#x27;, &#x27;NorESM2-MM&#x27;,\n",
       "                                                   &#x27;SAM0-UNICON&#x27;,\n",
       "                                                   &#x27;TaiESM1&#x27;])])),\n",
       "                (&#x27;randomforestregressor&#x27;,\n",
       "                 RandomForestRegressor(n_jobs=-1, random_state=123))])</pre><b>In a Jupyter environment, please rerun this cell to show the HTML representation or trust the notebook. <br />On GitHub, the HTML representation is unable to render, please try loading this page with nbviewer.org.</b></div><div class=\"sk-container\" hidden><div class=\"sk-item sk-dashed-wrapped\"><div class=\"sk-label-container\"><div class=\"sk-label sk-toggleable\"><input class=\"sk-toggleable__control sk-hidden--visually\" id=\"sk-estimator-id-1\" type=\"checkbox\" ><label for=\"sk-estimator-id-1\" class=\"sk-toggleable__label sk-toggleable__label-arrow\">Pipeline</label><div class=\"sk-toggleable__content\"><pre>Pipeline(steps=[(&#x27;columntransformer&#x27;,\n",
       "                 ColumnTransformer(transformers=[(&#x27;standardscaler&#x27;,\n",
       "                                                  StandardScaler(),\n",
       "                                                  [&#x27;ACCESS-CM2&#x27;,\n",
       "                                                   &#x27;ACCESS-ESM1-5&#x27;,\n",
       "                                                   &#x27;AWI-ESM-1-1-LR&#x27;,\n",
       "                                                   &#x27;BCC-CSM2-MR&#x27;, &#x27;BCC-ESM1&#x27;,\n",
       "                                                   &#x27;CMCC-CM2-HR4&#x27;,\n",
       "                                                   &#x27;CMCC-CM2-SR5&#x27;, &#x27;CMCC-ESM2&#x27;,\n",
       "                                                   &#x27;CanESM5&#x27;,\n",
       "                                                   &#x27;EC-Earth3-Veg-LR&#x27;,\n",
       "                                                   &#x27;FGOALS-g3&#x27;, &#x27;GFDL-CM4&#x27;,\n",
       "                                                   &#x27;INM-CM4-8&#x27;, &#x27;INM-CM5-0&#x27;,\n",
       "                                                   &#x27;KIOST-ESM&#x27;, &#x27;MIROC6&#x27;,\n",
       "                                                   &#x27;MPI-ESM-1-2-HAM&#x27;,\n",
       "                                                   &#x27;MPI-ESM1-2-HR&#x27;,\n",
       "                                                   &#x27;MPI-ESM1-2-LR&#x27;,\n",
       "                                                   &#x27;MRI-ESM2-0&#x27;, &#x27;NESM3&#x27;,\n",
       "                                                   &#x27;NorESM2-LM&#x27;, &#x27;NorESM2-MM&#x27;,\n",
       "                                                   &#x27;SAM0-UNICON&#x27;,\n",
       "                                                   &#x27;TaiESM1&#x27;])])),\n",
       "                (&#x27;randomforestregressor&#x27;,\n",
       "                 RandomForestRegressor(n_jobs=-1, random_state=123))])</pre></div></div></div><div class=\"sk-serial\"><div class=\"sk-item sk-dashed-wrapped\"><div class=\"sk-label-container\"><div class=\"sk-label sk-toggleable\"><input class=\"sk-toggleable__control sk-hidden--visually\" id=\"sk-estimator-id-2\" type=\"checkbox\" ><label for=\"sk-estimator-id-2\" class=\"sk-toggleable__label sk-toggleable__label-arrow\">columntransformer: ColumnTransformer</label><div class=\"sk-toggleable__content\"><pre>ColumnTransformer(transformers=[(&#x27;standardscaler&#x27;, StandardScaler(),\n",
       "                                 [&#x27;ACCESS-CM2&#x27;, &#x27;ACCESS-ESM1-5&#x27;,\n",
       "                                  &#x27;AWI-ESM-1-1-LR&#x27;, &#x27;BCC-CSM2-MR&#x27;, &#x27;BCC-ESM1&#x27;,\n",
       "                                  &#x27;CMCC-CM2-HR4&#x27;, &#x27;CMCC-CM2-SR5&#x27;, &#x27;CMCC-ESM2&#x27;,\n",
       "                                  &#x27;CanESM5&#x27;, &#x27;EC-Earth3-Veg-LR&#x27;, &#x27;FGOALS-g3&#x27;,\n",
       "                                  &#x27;GFDL-CM4&#x27;, &#x27;INM-CM4-8&#x27;, &#x27;INM-CM5-0&#x27;,\n",
       "                                  &#x27;KIOST-ESM&#x27;, &#x27;MIROC6&#x27;, &#x27;MPI-ESM-1-2-HAM&#x27;,\n",
       "                                  &#x27;MPI-ESM1-2-HR&#x27;, &#x27;MPI-ESM1-2-LR&#x27;,\n",
       "                                  &#x27;MRI-ESM2-0&#x27;, &#x27;NESM3&#x27;, &#x27;NorESM2-LM&#x27;,\n",
       "                                  &#x27;NorESM2-MM&#x27;, &#x27;SAM0-UNICON&#x27;, &#x27;TaiESM1&#x27;])])</pre></div></div></div><div class=\"sk-parallel\"><div class=\"sk-parallel-item\"><div class=\"sk-item\"><div class=\"sk-label-container\"><div class=\"sk-label sk-toggleable\"><input class=\"sk-toggleable__control sk-hidden--visually\" id=\"sk-estimator-id-3\" type=\"checkbox\" ><label for=\"sk-estimator-id-3\" class=\"sk-toggleable__label sk-toggleable__label-arrow\">standardscaler</label><div class=\"sk-toggleable__content\"><pre>[&#x27;ACCESS-CM2&#x27;, &#x27;ACCESS-ESM1-5&#x27;, &#x27;AWI-ESM-1-1-LR&#x27;, &#x27;BCC-CSM2-MR&#x27;, &#x27;BCC-ESM1&#x27;, &#x27;CMCC-CM2-HR4&#x27;, &#x27;CMCC-CM2-SR5&#x27;, &#x27;CMCC-ESM2&#x27;, &#x27;CanESM5&#x27;, &#x27;EC-Earth3-Veg-LR&#x27;, &#x27;FGOALS-g3&#x27;, &#x27;GFDL-CM4&#x27;, &#x27;INM-CM4-8&#x27;, &#x27;INM-CM5-0&#x27;, &#x27;KIOST-ESM&#x27;, &#x27;MIROC6&#x27;, &#x27;MPI-ESM-1-2-HAM&#x27;, &#x27;MPI-ESM1-2-HR&#x27;, &#x27;MPI-ESM1-2-LR&#x27;, &#x27;MRI-ESM2-0&#x27;, &#x27;NESM3&#x27;, &#x27;NorESM2-LM&#x27;, &#x27;NorESM2-MM&#x27;, &#x27;SAM0-UNICON&#x27;, &#x27;TaiESM1&#x27;]</pre></div></div></div><div class=\"sk-serial\"><div class=\"sk-item\"><div class=\"sk-estimator sk-toggleable\"><input class=\"sk-toggleable__control sk-hidden--visually\" id=\"sk-estimator-id-4\" type=\"checkbox\" ><label for=\"sk-estimator-id-4\" class=\"sk-toggleable__label sk-toggleable__label-arrow\">StandardScaler</label><div class=\"sk-toggleable__content\"><pre>StandardScaler()</pre></div></div></div></div></div></div></div></div><div class=\"sk-item\"><div class=\"sk-estimator sk-toggleable\"><input class=\"sk-toggleable__control sk-hidden--visually\" id=\"sk-estimator-id-5\" type=\"checkbox\" ><label for=\"sk-estimator-id-5\" class=\"sk-toggleable__label sk-toggleable__label-arrow\">RandomForestRegressor</label><div class=\"sk-toggleable__content\"><pre>RandomForestRegressor(n_jobs=-1, random_state=123)</pre></div></div></div></div></div></div></div>"
      ],
      "text/plain": [
       "Pipeline(steps=[('columntransformer',\n",
       "                 ColumnTransformer(transformers=[('standardscaler',\n",
       "                                                  StandardScaler(),\n",
       "                                                  ['ACCESS-CM2',\n",
       "                                                   'ACCESS-ESM1-5',\n",
       "                                                   'AWI-ESM-1-1-LR',\n",
       "                                                   'BCC-CSM2-MR', 'BCC-ESM1',\n",
       "                                                   'CMCC-CM2-HR4',\n",
       "                                                   'CMCC-CM2-SR5', 'CMCC-ESM2',\n",
       "                                                   'CanESM5',\n",
       "                                                   'EC-Earth3-Veg-LR',\n",
       "                                                   'FGOALS-g3', 'GFDL-CM4',\n",
       "                                                   'INM-CM4-8', 'INM-CM5-0',\n",
       "                                                   'KIOST-ESM', 'MIROC6',\n",
       "                                                   'MPI-ESM-1-2-HAM',\n",
       "                                                   'MPI-ESM1-2-HR',\n",
       "                                                   'MPI-ESM1-2-LR',\n",
       "                                                   'MRI-ESM2-0', 'NESM3',\n",
       "                                                   'NorESM2-LM', 'NorESM2-MM',\n",
       "                                                   'SAM0-UNICON',\n",
       "                                                   'TaiESM1'])])),\n",
       "                ('randomforestregressor',\n",
       "                 RandomForestRegressor(n_jobs=-1, random_state=123))])"
      ]
     },
     "execution_count": 16,
     "metadata": {},
     "output_type": "execute_result"
    }
   ],
   "source": [
    "# step 5\n",
    "from sklearn.compose import ColumnTransformer, make_column_transformer\n",
    "from sklearn.ensemble import RandomForestRegressor\n",
    "from sklearn.pipeline import Pipeline, make_pipeline\n",
    "from sklearn.preprocessing import StandardScaler\n",
    "from sklearn.metrics import mean_squared_error\n",
    "numeric_transformer = StandardScaler()\n",
    "numeric_features = X_train.columns.tolist()\n",
    "preprocessor = make_column_transformer(\n",
    "    (numeric_transformer, numeric_features)\n",
    ")\n",
    "\n",
    "pipe_rf = make_pipeline(\n",
    "    preprocessor,\n",
    "    RandomForestRegressor(\n",
    "        n_jobs=-1,\n",
    "        random_state=123,\n",
    "    ),\n",
    ")\n",
    "pipe_rf.fit(X_train, y_train)"
   ]
  },
  {
   "cell_type": "code",
   "execution_count": 17,
   "metadata": {},
   "outputs": [
    {
     "name": "stdout",
     "output_type": "stream",
     "text": [
      "Ensemble model RMSE: 78.237\n"
     ]
    }
   ],
   "source": [
    "y_predict = pipe_rf.predict(X_test)\n",
    "print(f'Ensemble model RMSE: {round(mean_squared_error(y_predict,y_test),3)}')"
   ]
  },
  {
   "cell_type": "code",
   "execution_count": 18,
   "metadata": {},
   "outputs": [
    {
     "name": "stdout",
     "output_type": "stream",
     "text": [
      "Individual model ACCESS-CM2 RMSE 121.86\n",
      "Individual model ACCESS-ESM1-5 RMSE 114.39\n",
      "Individual model AWI-ESM-1-1-LR RMSE 120.926\n",
      "Individual model BCC-CSM2-MR RMSE 115.807\n",
      "Individual model BCC-ESM1 RMSE 112.69\n",
      "Individual model CMCC-CM2-HR4 RMSE 113.278\n",
      "Individual model CMCC-CM2-SR5 RMSE 131.805\n",
      "Individual model CMCC-ESM2 RMSE 126.484\n",
      "Individual model CanESM5 RMSE 124.352\n",
      "Individual model EC-Earth3-Veg-LR RMSE 109.278\n",
      "Individual model FGOALS-g3 RMSE 93.853\n",
      "Individual model GFDL-CM4 RMSE 110.495\n",
      "Individual model INM-CM4-8 RMSE 131.14\n",
      "Individual model INM-CM5-0 RMSE 150.068\n",
      "Individual model KIOST-ESM RMSE 92.169\n",
      "Individual model MIROC6 RMSE 128.89\n",
      "Individual model MPI-ESM-1-2-HAM RMSE 119.509\n",
      "Individual model MPI-ESM1-2-HR RMSE 99.397\n",
      "Individual model MPI-ESM1-2-LR RMSE 105.286\n",
      "Individual model MRI-ESM2-0 RMSE 98.462\n",
      "Individual model NESM3 RMSE 99.563\n",
      "Individual model NorESM2-LM RMSE 108.371\n",
      "Individual model NorESM2-MM RMSE 119.678\n",
      "Individual model SAM0-UNICON RMSE 136.393\n",
      "Individual model TaiESM1 RMSE 132.897\n"
     ]
    }
   ],
   "source": [
    "# step 6\n",
    "for column in numeric_features:\n",
    "    print(f'Individual model {column} RMSE {round(mean_squared_error(X_test[column],y_test),3)}')"
   ]
  },
  {
   "cell_type": "markdown",
   "metadata": {},
   "source": [
    "The ensemble model performs better than all individual climate models with lower RMSE on observed target."
   ]
  },
  {
   "cell_type": "markdown",
   "metadata": {
    "tags": []
   },
   "source": [
    "## Part 2:"
   ]
  },
  {
   "cell_type": "markdown",
   "metadata": {},
   "source": [
    "### Preparation for deploying model next week"
   ]
  },
  {
   "cell_type": "markdown",
   "metadata": {},
   "source": [
    "***NOTE: Complete Question 4 (`Milestone3-task4.ipynb`) from the milestone 3 before coming here***"
   ]
  },
  {
   "cell_type": "markdown",
   "metadata": {},
   "source": [
    "We’ve found the best hyperparameter settings with MLlib (from the Question 4 from milestone3), here we then use the same hyperparameters to train a scikit-learn model. "
   ]
  },
  {
   "cell_type": "code",
   "execution_count": 19,
   "metadata": {},
   "outputs": [
    {
     "data": {
      "text/html": [
       "<style>#sk-container-id-2 {color: black;background-color: white;}#sk-container-id-2 pre{padding: 0;}#sk-container-id-2 div.sk-toggleable {background-color: white;}#sk-container-id-2 label.sk-toggleable__label {cursor: pointer;display: block;width: 100%;margin-bottom: 0;padding: 0.3em;box-sizing: border-box;text-align: center;}#sk-container-id-2 label.sk-toggleable__label-arrow:before {content: \"▸\";float: left;margin-right: 0.25em;color: #696969;}#sk-container-id-2 label.sk-toggleable__label-arrow:hover:before {color: black;}#sk-container-id-2 div.sk-estimator:hover label.sk-toggleable__label-arrow:before {color: black;}#sk-container-id-2 div.sk-toggleable__content {max-height: 0;max-width: 0;overflow: hidden;text-align: left;background-color: #f0f8ff;}#sk-container-id-2 div.sk-toggleable__content pre {margin: 0.2em;color: black;border-radius: 0.25em;background-color: #f0f8ff;}#sk-container-id-2 input.sk-toggleable__control:checked~div.sk-toggleable__content {max-height: 200px;max-width: 100%;overflow: auto;}#sk-container-id-2 input.sk-toggleable__control:checked~label.sk-toggleable__label-arrow:before {content: \"▾\";}#sk-container-id-2 div.sk-estimator input.sk-toggleable__control:checked~label.sk-toggleable__label {background-color: #d4ebff;}#sk-container-id-2 div.sk-label input.sk-toggleable__control:checked~label.sk-toggleable__label {background-color: #d4ebff;}#sk-container-id-2 input.sk-hidden--visually {border: 0;clip: rect(1px 1px 1px 1px);clip: rect(1px, 1px, 1px, 1px);height: 1px;margin: -1px;overflow: hidden;padding: 0;position: absolute;width: 1px;}#sk-container-id-2 div.sk-estimator {font-family: monospace;background-color: #f0f8ff;border: 1px dotted black;border-radius: 0.25em;box-sizing: border-box;margin-bottom: 0.5em;}#sk-container-id-2 div.sk-estimator:hover {background-color: #d4ebff;}#sk-container-id-2 div.sk-parallel-item::after {content: \"\";width: 100%;border-bottom: 1px solid gray;flex-grow: 1;}#sk-container-id-2 div.sk-label:hover label.sk-toggleable__label {background-color: #d4ebff;}#sk-container-id-2 div.sk-serial::before {content: \"\";position: absolute;border-left: 1px solid gray;box-sizing: border-box;top: 0;bottom: 0;left: 50%;z-index: 0;}#sk-container-id-2 div.sk-serial {display: flex;flex-direction: column;align-items: center;background-color: white;padding-right: 0.2em;padding-left: 0.2em;position: relative;}#sk-container-id-2 div.sk-item {position: relative;z-index: 1;}#sk-container-id-2 div.sk-parallel {display: flex;align-items: stretch;justify-content: center;background-color: white;position: relative;}#sk-container-id-2 div.sk-item::before, #sk-container-id-2 div.sk-parallel-item::before {content: \"\";position: absolute;border-left: 1px solid gray;box-sizing: border-box;top: 0;bottom: 0;left: 50%;z-index: -1;}#sk-container-id-2 div.sk-parallel-item {display: flex;flex-direction: column;z-index: 1;position: relative;background-color: white;}#sk-container-id-2 div.sk-parallel-item:first-child::after {align-self: flex-end;width: 50%;}#sk-container-id-2 div.sk-parallel-item:last-child::after {align-self: flex-start;width: 50%;}#sk-container-id-2 div.sk-parallel-item:only-child::after {width: 0;}#sk-container-id-2 div.sk-dashed-wrapped {border: 1px dashed gray;margin: 0 0.4em 0.5em 0.4em;box-sizing: border-box;padding-bottom: 0.4em;background-color: white;}#sk-container-id-2 div.sk-label label {font-family: monospace;font-weight: bold;display: inline-block;line-height: 1.2em;}#sk-container-id-2 div.sk-label-container {text-align: center;}#sk-container-id-2 div.sk-container {/* jupyter's `normalize.less` sets `[hidden] { display: none; }` but bootstrap.min.css set `[hidden] { display: none !important; }` so we also need the `!important` here to be able to override the default hidden behavior on the sphinx rendered scikit-learn.org. See: https://github.com/scikit-learn/scikit-learn/issues/21755 */display: inline-block !important;position: relative;}#sk-container-id-2 div.sk-text-repr-fallback {display: none;}</style><div id=\"sk-container-id-2\" class=\"sk-top-container\"><div class=\"sk-text-repr-fallback\"><pre>RandomForestRegressor(max_depth=5)</pre><b>In a Jupyter environment, please rerun this cell to show the HTML representation or trust the notebook. <br />On GitHub, the HTML representation is unable to render, please try loading this page with nbviewer.org.</b></div><div class=\"sk-container\" hidden><div class=\"sk-item\"><div class=\"sk-estimator sk-toggleable\"><input class=\"sk-toggleable__control sk-hidden--visually\" id=\"sk-estimator-id-6\" type=\"checkbox\" checked><label for=\"sk-estimator-id-6\" class=\"sk-toggleable__label sk-toggleable__label-arrow\">RandomForestRegressor</label><div class=\"sk-toggleable__content\"><pre>RandomForestRegressor(max_depth=5)</pre></div></div></div></div></div>"
      ],
      "text/plain": [
       "RandomForestRegressor(max_depth=5)"
      ]
     },
     "execution_count": 19,
     "metadata": {},
     "output_type": "execute_result"
    }
   ],
   "source": [
    "# Just replace ___ with the numbers you found from Milestone3-task4.ipynb\n",
    "model = RandomForestRegressor(n_estimators=100, max_depth=5, bootstrap=True)\n",
    "model.fit(X_train, y_train)"
   ]
  },
  {
   "cell_type": "code",
   "execution_count": 20,
   "metadata": {},
   "outputs": [
    {
     "name": "stdout",
     "output_type": "stream",
     "text": [
      "Train RMSE: 7.89\n",
      " Test RMSE: 8.65\n"
     ]
    }
   ],
   "source": [
    "print(f\"Train RMSE: {mean_squared_error(y_train, model.predict(X_train), squared=False):.2f}\")\n",
    "print(f\" Test RMSE: {mean_squared_error(y_test, model.predict(X_test), squared=False):.2f}\")"
   ]
  },
  {
   "cell_type": "code",
   "execution_count": 21,
   "metadata": {},
   "outputs": [
    {
     "data": {
      "text/plain": [
       "['model.joblib']"
      ]
     },
     "execution_count": 21,
     "metadata": {},
     "output_type": "execute_result"
    }
   ],
   "source": [
    "# ready to deploy\n",
    "# where this model is saved? Understand the concept of relative path.\n",
    "dump(model, \"model.joblib\")"
   ]
  },
  {
   "cell_type": "markdown",
   "metadata": {},
   "source": [
    "***Upload model.joblib to s3 under output folder. You choose how you want to upload it (using CLI, SDK, or web console).*** Web console is also completely fine as it is a small file."
   ]
  }
 ],
 "metadata": {
  "kernelspec": {
   "display_name": "525_2023",
   "language": "python",
   "name": "python3"
  },
  "language_info": {
   "codemirror_mode": {
    "name": "ipython",
    "version": 3
   },
   "file_extension": ".py",
   "mimetype": "text/x-python",
   "name": "python",
   "nbconvert_exporter": "python",
   "pygments_lexer": "ipython3",
   "version": "3.10.10"
  }
 },
 "nbformat": 4,
 "nbformat_minor": 4
}
